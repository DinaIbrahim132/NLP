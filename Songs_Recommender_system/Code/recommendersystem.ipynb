{
  "nbformat": 4,
  "nbformat_minor": 0,
  "metadata": {
    "kernelspec": {
      "display_name": "Python 3",
      "language": "python",
      "name": "python3"
    },
    "language_info": {
      "codemirror_mode": {
        "name": "ipython",
        "version": 3
      },
      "file_extension": ".py",
      "mimetype": "text/x-python",
      "name": "python",
      "nbconvert_exporter": "python",
      "pygments_lexer": "ipython3",
      "version": "3.7.6"
    },
    "colab": {
      "name": "recommendersystem.ipynb",
      "provenance": []
    }
  },
  "cells": [
    {
      "cell_type": "code",
      "metadata": {
        "id": "sVzHhqyaeeII"
      },
      "source": [
        "\n",
        "\n",
        "\n",
        "import nltk\n",
        "import numpy as np\n",
        "import pandas as pd\n",
        "import random\n",
        "from nltk.corpus import stopwords\n",
        "from nltk.tokenize import RegexpTokenizer\n",
        "from collections import Counter\n",
        "from sklearn.svm import SVC\n",
        "from sklearn.feature_extraction.text import CountVectorizer\n",
        "from sklearn.feature_extraction.text import TfidfTransformer\n",
        "from sklearn.metrics import accuracy_score\n",
        "from sklearn.preprocessing import StandardScaler\n",
        "from sklearn.decomposition import PCA\n",
        "from sklearn.tree import DecisionTreeClassifier\n",
        "from sklearn.linear_model import SGDClassifier\n",
        "from sklearn.pipeline import Pipeline\n",
        "from sklearn.neighbors import KNeighborsClassifier\n",
        "from sklearn.metrics import plot_confusion_matrix\n",
        "from sklearn.linear_model import LinearRegression\n",
        "from sklearn.metrics import confusion_matrix\n",
        "import matplotlib.pyplot as plt\n",
        "import seaborn as sn\n",
        "from sklearn.model_selection import train_test_split\n",
        "from sklearn.model_selection import cross_val_score\n",
        "from sklearn.model_selection import KFold\n",
        "import re\n",
        "from sklearn.decomposition import LatentDirichletAllocation\n",
        "from sklearn import feature_extraction, manifold\n",
        "from nltk import FreqDist\n",
        "import wordcloud\n",
        "\n",
        "from sklearn.utils import resample\n",
        "\n",
        "\n",
        "\n",
        "\n",
        "\n",
        "\n",
        "import re\n",
        "from sklearn.decomposition import LatentDirichletAllocation\n",
        "from sklearn import feature_extraction, manifold\n",
        "from nltk import FreqDist\n",
        "import wordcloud\n",
        "from sklearn.decomposition import PCA\n",
        "from sklearn.preprocessing import StandardScaler\n",
        "from sklearn import decomposition\n",
        "from sklearn.mixture import GaussianMixture\n",
        "import seaborn as sns\n",
        "from gensim.models.coherencemodel import CoherenceModel\n",
        "from sklearn.metrics import cohen_kappa_score\n",
        "import scipy.cluster.hierarchy as shc\n",
        "from sklearn.cluster import AgglomerativeClustering\n",
        "import numpy as np\n",
        "import pandas as pd\n",
        "from matplotlib import pyplot as plt\n",
        "from sklearn.datasets.samples_generator import make_blobs\n",
        "from sklearn.cluster import KMeans\n",
        "from sklearn.metrics import cohen_kappa_score\n",
        "from __future__ import print_function\n",
        "from gensim import corpora, models, similarities\n",
        "from gensim.models.coherencemodel import CoherenceModel\n",
        "from gensim.sklearn_api import TfIdfTransformer\n",
        "import codecs\n",
        "import numpy as np\n",
        "import logging\n",
        "from sklearn.metrics import silhouette_samples, silhouette_score\n",
        "from sklearn.metrics import calinski_harabasz_score\n",
        "from gensim.test.utils import common_texts\n",
        "from gensim.models.doc2vec import Doc2Vec, TaggedDocument\n",
        "from sklearn.metrics import accuracy_score, f1_score\n",
        "from sklearn.model_selection import train_test_split\n",
        "from sklearn.linear_model import LogisticRegression\n",
        "from sklearn import utils\n",
        "import csv\n",
        "from tqdm import tqdm\n",
        "import multiprocessing\n",
        "\n",
        "from sklearn import utils\n",
        "import csv\n",
        "from tqdm import tqdm\n",
        "import multiprocessing\n",
        "\n",
        "\n"
      ],
      "execution_count": 514,
      "outputs": []
    },
    {
      "cell_type": "code",
      "metadata": {
        "id": "O8LVuvLSegdF",
        "outputId": "bc32ed80-b89a-49fb-a8d8-12c5b4a19e9b",
        "colab": {
          "base_uri": "https://localhost:8080/"
        }
      },
      "source": [
        "nltk.download('stopwords')\n",
        "nltk.download('wordnet')"
      ],
      "execution_count": 515,
      "outputs": [
        {
          "output_type": "stream",
          "text": [
            "[nltk_data] Downloading package stopwords to /root/nltk_data...\n",
            "[nltk_data]   Package stopwords is already up-to-date!\n",
            "[nltk_data] Downloading package wordnet to /root/nltk_data...\n",
            "[nltk_data]   Package wordnet is already up-to-date!\n"
          ],
          "name": "stdout"
        },
        {
          "output_type": "execute_result",
          "data": {
            "text/plain": [
              "True"
            ]
          },
          "metadata": {
            "tags": []
          },
          "execution_count": 515
        }
      ]
    },
    {
      "cell_type": "code",
      "metadata": {
        "id": "MyUEZCopeltV"
      },
      "source": [
        ""
      ],
      "execution_count": 515,
      "outputs": []
    },
    {
      "cell_type": "code",
      "metadata": {
        "colab": {
          "base_uri": "https://localhost:8080/"
        },
        "id": "s0IaGqj0Zo7C",
        "outputId": "860ff0fb-3f1e-45b5-b914-74b4d591929a"
      },
      "source": [
        "pip install surprise"
      ],
      "execution_count": 516,
      "outputs": [
        {
          "output_type": "stream",
          "text": [
            "Requirement already satisfied: surprise in /usr/local/lib/python3.7/dist-packages (0.1)\n",
            "Requirement already satisfied: scikit-surprise in /usr/local/lib/python3.7/dist-packages (from surprise) (1.1.1)\n",
            "Requirement already satisfied: scipy>=1.0.0 in /usr/local/lib/python3.7/dist-packages (from scikit-surprise->surprise) (1.4.1)\n",
            "Requirement already satisfied: six>=1.10.0 in /usr/local/lib/python3.7/dist-packages (from scikit-surprise->surprise) (1.15.0)\n",
            "Requirement already satisfied: numpy>=1.11.2 in /usr/local/lib/python3.7/dist-packages (from scikit-surprise->surprise) (1.19.5)\n",
            "Requirement already satisfied: joblib>=0.11 in /usr/local/lib/python3.7/dist-packages (from scikit-surprise->surprise) (1.0.1)\n"
          ],
          "name": "stdout"
        }
      ]
    },
    {
      "cell_type": "code",
      "metadata": {
        "id": "v45CB2Q8Y3XW"
      },
      "source": [
        "from datetime import datetime\n",
        "import os\n",
        "import pandas as pd\n",
        "import numpy as np\n",
        "from surprise import Reader\n",
        "from surprise import Dataset\n",
        "from surprise.model_selection import KFold\n",
        "from surprise.model_selection import cross_validate\n",
        "from surprise import NormalPredictor\n",
        "from surprise import KNNBasic\n",
        "from surprise import SVD\n",
        "from surprise import NMF\n",
        "from surprise import SlopeOne\n",
        "from surprise import CoClustering\n",
        "from surprise.accuracy import rmse\n",
        "from surprise import accuracy\n",
        "from surprise.model_selection import train_test_split\n",
        "from surprise.model_selection import GridSearchCV\n",
        "from collections import defaultdict"
      ],
      "execution_count": 517,
      "outputs": []
    },
    {
      "cell_type": "code",
      "metadata": {
        "id": "v78w-CWj86TW"
      },
      "source": [
        "idofuser=47"
      ],
      "execution_count": 518,
      "outputs": []
    },
    {
      "cell_type": "code",
      "metadata": {
        "colab": {
          "base_uri": "https://localhost:8080/"
        },
        "id": "iZ40fRIKY3XY",
        "outputId": "e53fcfaa-f32a-41a3-9804-e531c342826f"
      },
      "source": [
        "import pandas as pd\n",
        "\n",
        "df = pd.read_excel (r'/content/sample_data/Ratings.xlsx')\n",
        "print (df.values[:,0:])"
      ],
      "execution_count": 519,
      "outputs": [
        {
          "output_type": "stream",
          "text": [
            "[[0 '(datetime.datetime(2018, 10, 25, 11, 26, 57), 3039.918665490173)' 7\n",
            "  45055 3]\n",
            " [1 '(datetime.datetime(2018, 10, 25, 12, 26, 57), 2728.635850585089)' 40\n",
            "  78355 4]\n",
            " [2 '(datetime.datetime(2018, 10, 25, 13, 26, 57), 1514.057690991042)' 32\n",
            "  66029 5]\n",
            " ...\n",
            " [997 '(datetime.datetime(2018, 12, 6, 0, 26, 57), 3345.7870694513904)'\n",
            "  64 70078 4]\n",
            " [998 '(datetime.datetime(2018, 12, 6, 1, 26, 57), 3414.9898782212217)'\n",
            "  85 17984 1]\n",
            " [999 '(datetime.datetime(2018, 12, 6, 2, 26, 57), 1729.4851249133173)' 6\n",
            "  25672 5]]\n"
          ],
          "name": "stdout"
        }
      ]
    },
    {
      "cell_type": "code",
      "metadata": {
        "id": "CGsdjmH2Y3XZ"
      },
      "source": [
        "ratings_dict = {'userID': list(df.userid),\n",
        "                'songID': list(df.songid),\n",
        "                'rating': list(df.rating)}\n",
        "\n",
        "df = pd.DataFrame(ratings_dict)\n",
        "df.shape\n",
        "\n",
        "reader = Reader(rating_scale=(0.5, 5.0))\n",
        "data = Dataset.load_from_df(df[['userID','songID','rating']], reader)"
      ],
      "execution_count": 520,
      "outputs": []
    },
    {
      "cell_type": "code",
      "metadata": {
        "colab": {
          "base_uri": "https://localhost:8080/"
        },
        "id": "4enLsqM0Y3XZ",
        "outputId": "19455751-2787-4fd6-b5f9-9dd5fceb79cb"
      },
      "source": [
        "data = Dataset.load_from_df(df[['userID', 'songID', 'rating']], reader)\n",
        "\n",
        "benchmark = []\n",
        "\n",
        "for algorithm in [SVD(), NMF(), NormalPredictor(), KNNBasic()]:\n",
        "    \n",
        "    results = cross_validate(algorithm, data, measures=['RMSE'], cv=3, verbose=False)\n",
        "    tmp = pd.DataFrame.from_dict(results).mean(axis=0)\n",
        "    tmp = tmp.append(pd.Series([str(algorithm).split(' ')[0].split('.')[-1]],index=['Algorithm']))\n",
        "    benchmark.append(tmp)"
      ],
      "execution_count": 521,
      "outputs": [
        {
          "output_type": "stream",
          "text": [
            "Computing the msd similarity matrix...\n",
            "Done computing similarity matrix.\n",
            "Computing the msd similarity matrix...\n",
            "Done computing similarity matrix.\n",
            "Computing the msd similarity matrix...\n",
            "Done computing similarity matrix.\n"
          ],
          "name": "stdout"
        }
      ]
    },
    {
      "cell_type": "code",
      "metadata": {
        "colab": {
          "base_uri": "https://localhost:8080/",
          "height": 204
        },
        "id": "Ln_j1mKlY3Xa",
        "outputId": "e81e30ee-7fb0-4618-d845-2aca5fe5579b"
      },
      "source": [
        "surprise_results = pd.DataFrame(benchmark).set_index('Algorithm').sort_values('test_rmse')\n",
        "surprise_results"
      ],
      "execution_count": 522,
      "outputs": [
        {
          "output_type": "execute_result",
          "data": {
            "text/html": [
              "<div>\n",
              "<style scoped>\n",
              "    .dataframe tbody tr th:only-of-type {\n",
              "        vertical-align: middle;\n",
              "    }\n",
              "\n",
              "    .dataframe tbody tr th {\n",
              "        vertical-align: top;\n",
              "    }\n",
              "\n",
              "    .dataframe thead th {\n",
              "        text-align: right;\n",
              "    }\n",
              "</style>\n",
              "<table border=\"1\" class=\"dataframe\">\n",
              "  <thead>\n",
              "    <tr style=\"text-align: right;\">\n",
              "      <th></th>\n",
              "      <th>test_rmse</th>\n",
              "      <th>fit_time</th>\n",
              "      <th>test_time</th>\n",
              "    </tr>\n",
              "    <tr>\n",
              "      <th>Algorithm</th>\n",
              "      <th></th>\n",
              "      <th></th>\n",
              "      <th></th>\n",
              "    </tr>\n",
              "  </thead>\n",
              "  <tbody>\n",
              "    <tr>\n",
              "      <th>KNNBasic</th>\n",
              "      <td>1.440235</td>\n",
              "      <td>0.001277</td>\n",
              "      <td>0.002249</td>\n",
              "    </tr>\n",
              "    <tr>\n",
              "      <th>NMF</th>\n",
              "      <td>1.457338</td>\n",
              "      <td>0.087140</td>\n",
              "      <td>0.002070</td>\n",
              "    </tr>\n",
              "    <tr>\n",
              "      <th>SVD</th>\n",
              "      <td>1.473553</td>\n",
              "      <td>0.042341</td>\n",
              "      <td>0.002554</td>\n",
              "    </tr>\n",
              "    <tr>\n",
              "      <th>NormalPredictor</th>\n",
              "      <td>1.872692</td>\n",
              "      <td>0.001020</td>\n",
              "      <td>0.002799</td>\n",
              "    </tr>\n",
              "  </tbody>\n",
              "</table>\n",
              "</div>"
            ],
            "text/plain": [
              "                 test_rmse  fit_time  test_time\n",
              "Algorithm                                      \n",
              "KNNBasic          1.440235  0.001277   0.002249\n",
              "NMF               1.457338  0.087140   0.002070\n",
              "SVD               1.473553  0.042341   0.002554\n",
              "NormalPredictor   1.872692  0.001020   0.002799"
            ]
          },
          "metadata": {
            "tags": []
          },
          "execution_count": 522
        }
      ]
    },
    {
      "cell_type": "code",
      "metadata": {
        "colab": {
          "base_uri": "https://localhost:8080/"
        },
        "id": "Oqe6FTlkY3Xa",
        "outputId": "d393ceb5-d923-4eed-8e1e-5633a181a5f1"
      },
      "source": [
        "trainset, testset = train_test_split(data, test_size=0.25)\n",
        "algo = SVD()\n",
        "predictions = algo.fit(trainset).test(testset)\n",
        "accuracy.rmse(predictions)"
      ],
      "execution_count": 523,
      "outputs": [
        {
          "output_type": "stream",
          "text": [
            "RMSE: 1.5015\n"
          ],
          "name": "stdout"
        },
        {
          "output_type": "execute_result",
          "data": {
            "text/plain": [
              "1.5014610725319713"
            ]
          },
          "metadata": {
            "tags": []
          },
          "execution_count": 523
        }
      ]
    },
    {
      "cell_type": "code",
      "metadata": {
        "id": "5apryAZUY3Xb"
      },
      "source": [
        "trainset = data.build_full_trainset() \n",
        "algo = SVD()\n",
        "algo.fit(trainset)\n",
        "testset = trainset.build_anti_testset()\n",
        "predictions = algo.test(testset)"
      ],
      "execution_count": 524,
      "outputs": []
    },
    {
      "cell_type": "code",
      "metadata": {
        "id": "1kiyLSaSY3Xb"
      },
      "source": [
        "def get_all_predictions(predictions):\n",
        "    # First map the predictions to each user.\n",
        "    top_n = defaultdict(list)    \n",
        "    for uid, iid, true_r, est, _ in predictions:\n",
        "        top_n[uid].append((iid, est))\n",
        "        \n",
        "    # Then sort the predictions for each user and retrieve the k highest ones.\n",
        "    for uid, user_ratings in top_n.items():\n",
        "        user_ratings.sort(key=lambda x: x[1], reverse=True)\n",
        "    return top_n"
      ],
      "execution_count": 525,
      "outputs": []
    },
    {
      "cell_type": "code",
      "metadata": {
        "id": "ySPrKCIdY3Xb"
      },
      "source": [
        "all_pred = get_all_predictions(predictions)"
      ],
      "execution_count": 526,
      "outputs": []
    },
    {
      "cell_type": "code",
      "metadata": {
        "id": "hWzwj_Y-Y3Xb"
      },
      "source": [
        "#To get top 5 reommendation\n",
        "n = 5\n",
        "\n",
        "for uid, user_ratings in all_pred.items():\n",
        "    user_ratings.sort(key=lambda x: x[1], reverse=True)\n",
        "\n",
        "    all_pred[uid] = user_ratings[:n]"
      ],
      "execution_count": 527,
      "outputs": []
    },
    {
      "cell_type": "code",
      "metadata": {
        "id": "Ty8kAWYiY3Xc"
      },
      "source": [
        "tmp = pd.DataFrame.from_dict(all_pred)\n",
        "tmp_transpose = tmp.transpose()"
      ],
      "execution_count": 528,
      "outputs": []
    },
    {
      "cell_type": "code",
      "metadata": {
        "id": "D9oVmEL2Y3Xc"
      },
      "source": [
        "def get_predictions(user_id):\n",
        "    results = tmp_transpose.loc[user_id]\n",
        "    return results"
      ],
      "execution_count": 529,
      "outputs": []
    },
    {
      "cell_type": "code",
      "metadata": {
        "colab": {
          "base_uri": "https://localhost:8080/"
        },
        "id": "ZbOtzzYZY3Xc",
        "outputId": "43ea25e4-b6a8-491e-91cd-580d835cdb32"
      },
      "source": [
        "#specifying the user\n",
        "user_id=idofuser\n",
        "results = get_predictions(user_id)\n",
        "results\n"
      ],
      "execution_count": 530,
      "outputs": [
        {
          "output_type": "execute_result",
          "data": {
            "text/plain": [
              "0      (1591, 3.672460130961634)\n",
              "1     (30941, 3.659681527677011)\n",
              "2    (74904, 3.6442353082735006)\n",
              "3     (6049, 3.6208512631059637)\n",
              "4    (18730, 3.6132191910580276)\n",
              "Name: 47, dtype: object"
            ]
          },
          "metadata": {
            "tags": []
          },
          "execution_count": 530
        }
      ]
    },
    {
      "cell_type": "code",
      "metadata": {
        "colab": {
          "base_uri": "https://localhost:8080/"
        },
        "id": "vLytqlxAY3Xc",
        "outputId": "b8f3cf97-8bfd-4e13-ecf0-d4c1e947c0f2"
      },
      "source": [
        "recommended_song_ids=[]\n",
        "for x in range(0, n):\n",
        "    recommended_song_ids.append(results[x][0])\n",
        "\n",
        "recommended_song_ids"
      ],
      "execution_count": 531,
      "outputs": [
        {
          "output_type": "execute_result",
          "data": {
            "text/plain": [
              "[1591, 30941, 74904, 6049, 18730]"
            ]
          },
          "metadata": {
            "tags": []
          },
          "execution_count": 531
        }
      ]
    },
    {
      "cell_type": "code",
      "metadata": {
        "colab": {
          "base_uri": "https://localhost:8080/",
          "height": 861
        },
        "id": "wj99vP6VY3Xd",
        "outputId": "31e9ae19-ffff-4075-c68f-b3279cbe73fb"
      },
      "source": [
        "#getting the title of the recommended songs\n",
        "songs = pd.read_excel (r'/content/sample_data/music.xlsx')\n",
        "songs.head()\n",
        "recommended_songs = songs[songs['id'].isin(recommended_song_ids)]\n",
        "recommended_songs"
      ],
      "execution_count": 532,
      "outputs": [
        {
          "output_type": "execute_result",
          "data": {
            "text/html": [
              "<div>\n",
              "<style scoped>\n",
              "    .dataframe tbody tr th:only-of-type {\n",
              "        vertical-align: middle;\n",
              "    }\n",
              "\n",
              "    .dataframe tbody tr th {\n",
              "        vertical-align: top;\n",
              "    }\n",
              "\n",
              "    .dataframe thead th {\n",
              "        text-align: right;\n",
              "    }\n",
              "</style>\n",
              "<table border=\"1\" class=\"dataframe\">\n",
              "  <thead>\n",
              "    <tr style=\"text-align: right;\">\n",
              "      <th></th>\n",
              "      <th>id</th>\n",
              "      <th>artist_name</th>\n",
              "      <th>track_name</th>\n",
              "      <th>release_date</th>\n",
              "      <th>genre</th>\n",
              "      <th>lyrics</th>\n",
              "      <th>len</th>\n",
              "      <th>dating</th>\n",
              "      <th>violence</th>\n",
              "      <th>world/life</th>\n",
              "      <th>night/time</th>\n",
              "      <th>shake the audience</th>\n",
              "      <th>family/gospel</th>\n",
              "      <th>romantic</th>\n",
              "      <th>communication</th>\n",
              "      <th>obscene</th>\n",
              "      <th>music</th>\n",
              "      <th>movement/places</th>\n",
              "      <th>light/visual perceptions</th>\n",
              "      <th>family/spiritual</th>\n",
              "      <th>like/girls</th>\n",
              "      <th>sadness</th>\n",
              "      <th>feelings</th>\n",
              "      <th>danceability</th>\n",
              "      <th>loudness</th>\n",
              "      <th>acousticness</th>\n",
              "      <th>instrumentalness</th>\n",
              "      <th>valence</th>\n",
              "      <th>energy</th>\n",
              "      <th>topic</th>\n",
              "      <th>age</th>\n",
              "    </tr>\n",
              "  </thead>\n",
              "  <tbody>\n",
              "    <tr>\n",
              "      <th>609</th>\n",
              "      <td>1591</td>\n",
              "      <td>roy orbison</td>\n",
              "      <td>crying</td>\n",
              "      <td>1962</td>\n",
              "      <td>pop</td>\n",
              "      <td>alright smile night hold hand tight stop hello...</td>\n",
              "      <td>20</td>\n",
              "      <td>0.002506</td>\n",
              "      <td>0.002506</td>\n",
              "      <td>0.002506</td>\n",
              "      <td>0.085134</td>\n",
              "      <td>0.002506</td>\n",
              "      <td>0.002506</td>\n",
              "      <td>0.255565</td>\n",
              "      <td>0.107506</td>\n",
              "      <td>0.002506</td>\n",
              "      <td>0.002506</td>\n",
              "      <td>0.002506</td>\n",
              "      <td>0.002506</td>\n",
              "      <td>0.002506</td>\n",
              "      <td>0.056025</td>\n",
              "      <td>0.317470</td>\n",
              "      <td>0.002506</td>\n",
              "      <td>0.312250</td>\n",
              "      <td>0.670589</td>\n",
              "      <td>0.761044</td>\n",
              "      <td>0.000008</td>\n",
              "      <td>0.142622</td>\n",
              "      <td>0.293271</td>\n",
              "      <td>sadness</td>\n",
              "      <td>0.828571</td>\n",
              "    </tr>\n",
              "    <tr>\n",
              "      <th>2042</th>\n",
              "      <td>6049</td>\n",
              "      <td>michael jackson</td>\n",
              "      <td>take me back</td>\n",
              "      <td>1975</td>\n",
              "      <td>pop</td>\n",
              "      <td>belong baby belong baby think grass green thin...</td>\n",
              "      <td>44</td>\n",
              "      <td>0.175851</td>\n",
              "      <td>0.001224</td>\n",
              "      <td>0.166898</td>\n",
              "      <td>0.001224</td>\n",
              "      <td>0.001224</td>\n",
              "      <td>0.001224</td>\n",
              "      <td>0.044707</td>\n",
              "      <td>0.054126</td>\n",
              "      <td>0.001224</td>\n",
              "      <td>0.001224</td>\n",
              "      <td>0.001224</td>\n",
              "      <td>0.116632</td>\n",
              "      <td>0.001224</td>\n",
              "      <td>0.001224</td>\n",
              "      <td>0.327601</td>\n",
              "      <td>0.001224</td>\n",
              "      <td>0.641503</td>\n",
              "      <td>0.659488</td>\n",
              "      <td>0.484939</td>\n",
              "      <td>0.000394</td>\n",
              "      <td>0.784625</td>\n",
              "      <td>0.730722</td>\n",
              "      <td>sadness</td>\n",
              "      <td>0.642857</td>\n",
              "    </tr>\n",
              "    <tr>\n",
              "      <th>6521</th>\n",
              "      <td>18730</td>\n",
              "      <td>twice</td>\n",
              "      <td>ooh-ahhí•˜ê²Œ like ooh-ahh</td>\n",
              "      <td>2015</td>\n",
              "      <td>pop</td>\n",
              "      <td>change hoe switch lanes shit look morning cook...</td>\n",
              "      <td>117</td>\n",
              "      <td>0.137400</td>\n",
              "      <td>0.000752</td>\n",
              "      <td>0.145418</td>\n",
              "      <td>0.075486</td>\n",
              "      <td>0.000752</td>\n",
              "      <td>0.000752</td>\n",
              "      <td>0.000752</td>\n",
              "      <td>0.000752</td>\n",
              "      <td>0.447040</td>\n",
              "      <td>0.000752</td>\n",
              "      <td>0.000752</td>\n",
              "      <td>0.000752</td>\n",
              "      <td>0.000752</td>\n",
              "      <td>0.101740</td>\n",
              "      <td>0.000752</td>\n",
              "      <td>0.083141</td>\n",
              "      <td>0.712986</td>\n",
              "      <td>0.884317</td>\n",
              "      <td>0.241967</td>\n",
              "      <td>0.000102</td>\n",
              "      <td>0.690849</td>\n",
              "      <td>0.876873</td>\n",
              "      <td>obscene</td>\n",
              "      <td>0.071429</td>\n",
              "    </tr>\n",
              "    <tr>\n",
              "      <th>10504</th>\n",
              "      <td>30941</td>\n",
              "      <td>warren zevon</td>\n",
              "      <td>splendid isolation</td>\n",
              "      <td>1993</td>\n",
              "      <td>country</td>\n",
              "      <td>want live desert want like want live upper eas...</td>\n",
              "      <td>57</td>\n",
              "      <td>0.001645</td>\n",
              "      <td>0.389238</td>\n",
              "      <td>0.178808</td>\n",
              "      <td>0.001645</td>\n",
              "      <td>0.117864</td>\n",
              "      <td>0.001645</td>\n",
              "      <td>0.001645</td>\n",
              "      <td>0.001645</td>\n",
              "      <td>0.001645</td>\n",
              "      <td>0.001645</td>\n",
              "      <td>0.001645</td>\n",
              "      <td>0.001645</td>\n",
              "      <td>0.001645</td>\n",
              "      <td>0.001645</td>\n",
              "      <td>0.001645</td>\n",
              "      <td>0.001645</td>\n",
              "      <td>0.459547</td>\n",
              "      <td>0.698203</td>\n",
              "      <td>0.315260</td>\n",
              "      <td>0.003654</td>\n",
              "      <td>0.423949</td>\n",
              "      <td>0.743736</td>\n",
              "      <td>violence</td>\n",
              "      <td>0.385714</td>\n",
              "    </tr>\n",
              "    <tr>\n",
              "      <th>25029</th>\n",
              "      <td>74904</td>\n",
              "      <td>fleetwood mac</td>\n",
              "      <td>seven wonders</td>\n",
              "      <td>1987</td>\n",
              "      <td>rock</td>\n",
              "      <td>long certain place certain time touch hand pat...</td>\n",
              "      <td>99</td>\n",
              "      <td>0.000702</td>\n",
              "      <td>0.034574</td>\n",
              "      <td>0.556857</td>\n",
              "      <td>0.000702</td>\n",
              "      <td>0.000702</td>\n",
              "      <td>0.026305</td>\n",
              "      <td>0.110480</td>\n",
              "      <td>0.125311</td>\n",
              "      <td>0.000702</td>\n",
              "      <td>0.000702</td>\n",
              "      <td>0.000702</td>\n",
              "      <td>0.000702</td>\n",
              "      <td>0.126924</td>\n",
              "      <td>0.000702</td>\n",
              "      <td>0.000702</td>\n",
              "      <td>0.000702</td>\n",
              "      <td>0.698906</td>\n",
              "      <td>0.669897</td>\n",
              "      <td>0.026003</td>\n",
              "      <td>0.000055</td>\n",
              "      <td>0.629019</td>\n",
              "      <td>0.625614</td>\n",
              "      <td>world/life</td>\n",
              "      <td>0.471429</td>\n",
              "    </tr>\n",
              "  </tbody>\n",
              "</table>\n",
              "</div>"
            ],
            "text/plain": [
              "          id      artist_name  ...       topic       age\n",
              "609     1591      roy orbison  ...     sadness  0.828571\n",
              "2042    6049  michael jackson  ...     sadness  0.642857\n",
              "6521   18730            twice  ...     obscene  0.071429\n",
              "10504  30941     warren zevon  ...    violence  0.385714\n",
              "25029  74904    fleetwood mac  ...  world/life  0.471429\n",
              "\n",
              "[5 rows x 31 columns]"
            ]
          },
          "metadata": {
            "tags": []
          },
          "execution_count": 532
        }
      ]
    },
    {
      "cell_type": "code",
      "metadata": {
        "colab": {
          "base_uri": "https://localhost:8080/",
          "height": 202
        },
        "id": "vc0FmTjTY3Xd",
        "outputId": "4058d197-8880-418f-bd62-222983a57c6b"
      },
      "source": [
        "ratings = pd.read_excel (r'/content/sample_data/Ratings.xlsx')\n",
        "\n",
        "\n",
        "ratings_dict = {'songID': list(ratings.songid),\n",
        "                'userID': list(ratings.userid),\n",
        "                'rating': list(ratings.rating)}\n",
        "\n",
        "df = pd.DataFrame(ratings_dict)\n",
        "df.head()"
      ],
      "execution_count": 533,
      "outputs": [
        {
          "output_type": "execute_result",
          "data": {
            "text/html": [
              "<div>\n",
              "<style scoped>\n",
              "    .dataframe tbody tr th:only-of-type {\n",
              "        vertical-align: middle;\n",
              "    }\n",
              "\n",
              "    .dataframe tbody tr th {\n",
              "        vertical-align: top;\n",
              "    }\n",
              "\n",
              "    .dataframe thead th {\n",
              "        text-align: right;\n",
              "    }\n",
              "</style>\n",
              "<table border=\"1\" class=\"dataframe\">\n",
              "  <thead>\n",
              "    <tr style=\"text-align: right;\">\n",
              "      <th></th>\n",
              "      <th>songID</th>\n",
              "      <th>userID</th>\n",
              "      <th>rating</th>\n",
              "    </tr>\n",
              "  </thead>\n",
              "  <tbody>\n",
              "    <tr>\n",
              "      <th>0</th>\n",
              "      <td>45055</td>\n",
              "      <td>7</td>\n",
              "      <td>3</td>\n",
              "    </tr>\n",
              "    <tr>\n",
              "      <th>1</th>\n",
              "      <td>78355</td>\n",
              "      <td>40</td>\n",
              "      <td>4</td>\n",
              "    </tr>\n",
              "    <tr>\n",
              "      <th>2</th>\n",
              "      <td>66029</td>\n",
              "      <td>32</td>\n",
              "      <td>5</td>\n",
              "    </tr>\n",
              "    <tr>\n",
              "      <th>3</th>\n",
              "      <td>35826</td>\n",
              "      <td>11</td>\n",
              "      <td>2</td>\n",
              "    </tr>\n",
              "    <tr>\n",
              "      <th>4</th>\n",
              "      <td>32803</td>\n",
              "      <td>99</td>\n",
              "      <td>4</td>\n",
              "    </tr>\n",
              "  </tbody>\n",
              "</table>\n",
              "</div>"
            ],
            "text/plain": [
              "   songID  userID  rating\n",
              "0   45055       7       3\n",
              "1   78355      40       4\n",
              "2   66029      32       5\n",
              "3   35826      11       2\n",
              "4   32803      99       4"
            ]
          },
          "metadata": {
            "tags": []
          },
          "execution_count": 533
        }
      ]
    },
    {
      "cell_type": "code",
      "metadata": {
        "colab": {
          "base_uri": "https://localhost:8080/",
          "height": 326
        },
        "id": "l3SYPZIBY3Xd",
        "outputId": "5e7b2b15-9997-47c1-a9bd-916f93f29da3"
      },
      "source": [
        "temp = df[df['userID'] == idofuser].sort_values(\"rating\", ascending = False)\n",
        "temp"
      ],
      "execution_count": 534,
      "outputs": [
        {
          "output_type": "execute_result",
          "data": {
            "text/html": [
              "<div>\n",
              "<style scoped>\n",
              "    .dataframe tbody tr th:only-of-type {\n",
              "        vertical-align: middle;\n",
              "    }\n",
              "\n",
              "    .dataframe tbody tr th {\n",
              "        vertical-align: top;\n",
              "    }\n",
              "\n",
              "    .dataframe thead th {\n",
              "        text-align: right;\n",
              "    }\n",
              "</style>\n",
              "<table border=\"1\" class=\"dataframe\">\n",
              "  <thead>\n",
              "    <tr style=\"text-align: right;\">\n",
              "      <th></th>\n",
              "      <th>songID</th>\n",
              "      <th>userID</th>\n",
              "      <th>rating</th>\n",
              "    </tr>\n",
              "  </thead>\n",
              "  <tbody>\n",
              "    <tr>\n",
              "      <th>557</th>\n",
              "      <td>9171</td>\n",
              "      <td>47</td>\n",
              "      <td>5</td>\n",
              "    </tr>\n",
              "    <tr>\n",
              "      <th>687</th>\n",
              "      <td>2996</td>\n",
              "      <td>47</td>\n",
              "      <td>5</td>\n",
              "    </tr>\n",
              "    <tr>\n",
              "      <th>914</th>\n",
              "      <td>49656</td>\n",
              "      <td>47</td>\n",
              "      <td>5</td>\n",
              "    </tr>\n",
              "    <tr>\n",
              "      <th>233</th>\n",
              "      <td>27910</td>\n",
              "      <td>47</td>\n",
              "      <td>4</td>\n",
              "    </tr>\n",
              "    <tr>\n",
              "      <th>566</th>\n",
              "      <td>73579</td>\n",
              "      <td>47</td>\n",
              "      <td>4</td>\n",
              "    </tr>\n",
              "    <tr>\n",
              "      <th>45</th>\n",
              "      <td>51938</td>\n",
              "      <td>47</td>\n",
              "      <td>3</td>\n",
              "    </tr>\n",
              "    <tr>\n",
              "      <th>103</th>\n",
              "      <td>25342</td>\n",
              "      <td>47</td>\n",
              "      <td>3</td>\n",
              "    </tr>\n",
              "    <tr>\n",
              "      <th>315</th>\n",
              "      <td>28679</td>\n",
              "      <td>47</td>\n",
              "      <td>1</td>\n",
              "    </tr>\n",
              "    <tr>\n",
              "      <th>485</th>\n",
              "      <td>12721</td>\n",
              "      <td>47</td>\n",
              "      <td>1</td>\n",
              "    </tr>\n",
              "  </tbody>\n",
              "</table>\n",
              "</div>"
            ],
            "text/plain": [
              "     songID  userID  rating\n",
              "557    9171      47       5\n",
              "687    2996      47       5\n",
              "914   49656      47       5\n",
              "233   27910      47       4\n",
              "566   73579      47       4\n",
              "45    51938      47       3\n",
              "103   25342      47       3\n",
              "315   28679      47       1\n",
              "485   12721      47       1"
            ]
          },
          "metadata": {
            "tags": []
          },
          "execution_count": 534
        }
      ]
    },
    {
      "cell_type": "code",
      "metadata": {
        "id": "OXkUMJ-lY3Xd"
      },
      "source": [
        "history_song_ids = temp['songID']\n",
        "user_history = songs[songs['id'].isin(history_song_ids)]\n",
        "\n"
      ],
      "execution_count": 535,
      "outputs": []
    },
    {
      "cell_type": "code",
      "metadata": {
        "colab": {
          "base_uri": "https://localhost:8080/",
          "height": 693
        },
        "id": "_eUPE0qJY3Xe",
        "outputId": "c1ac3127-cce7-4c82-cb2e-90c833e4d7ad"
      },
      "source": [
        "user_history[:n]"
      ],
      "execution_count": 536,
      "outputs": [
        {
          "output_type": "execute_result",
          "data": {
            "text/html": [
              "<div>\n",
              "<style scoped>\n",
              "    .dataframe tbody tr th:only-of-type {\n",
              "        vertical-align: middle;\n",
              "    }\n",
              "\n",
              "    .dataframe tbody tr th {\n",
              "        vertical-align: top;\n",
              "    }\n",
              "\n",
              "    .dataframe thead th {\n",
              "        text-align: right;\n",
              "    }\n",
              "</style>\n",
              "<table border=\"1\" class=\"dataframe\">\n",
              "  <thead>\n",
              "    <tr style=\"text-align: right;\">\n",
              "      <th></th>\n",
              "      <th>id</th>\n",
              "      <th>artist_name</th>\n",
              "      <th>track_name</th>\n",
              "      <th>release_date</th>\n",
              "      <th>genre</th>\n",
              "      <th>lyrics</th>\n",
              "      <th>len</th>\n",
              "      <th>dating</th>\n",
              "      <th>violence</th>\n",
              "      <th>world/life</th>\n",
              "      <th>night/time</th>\n",
              "      <th>shake the audience</th>\n",
              "      <th>family/gospel</th>\n",
              "      <th>romantic</th>\n",
              "      <th>communication</th>\n",
              "      <th>obscene</th>\n",
              "      <th>music</th>\n",
              "      <th>movement/places</th>\n",
              "      <th>light/visual perceptions</th>\n",
              "      <th>family/spiritual</th>\n",
              "      <th>like/girls</th>\n",
              "      <th>sadness</th>\n",
              "      <th>feelings</th>\n",
              "      <th>danceability</th>\n",
              "      <th>loudness</th>\n",
              "      <th>acousticness</th>\n",
              "      <th>instrumentalness</th>\n",
              "      <th>valence</th>\n",
              "      <th>energy</th>\n",
              "      <th>topic</th>\n",
              "      <th>age</th>\n",
              "    </tr>\n",
              "  </thead>\n",
              "  <tbody>\n",
              "    <tr>\n",
              "      <th>1090</th>\n",
              "      <td>2996</td>\n",
              "      <td>dionne warwick</td>\n",
              "      <td>alfie</td>\n",
              "      <td>1967</td>\n",
              "      <td>pop</td>\n",
              "      <td>moment live sort mean mean kind fool kind gues...</td>\n",
              "      <td>30</td>\n",
              "      <td>0.002105</td>\n",
              "      <td>0.002105</td>\n",
              "      <td>0.529788</td>\n",
              "      <td>0.002105</td>\n",
              "      <td>0.002105</td>\n",
              "      <td>0.002105</td>\n",
              "      <td>0.002105</td>\n",
              "      <td>0.293053</td>\n",
              "      <td>0.002105</td>\n",
              "      <td>0.002105</td>\n",
              "      <td>0.002105</td>\n",
              "      <td>0.002105</td>\n",
              "      <td>0.002105</td>\n",
              "      <td>0.002105</td>\n",
              "      <td>0.110340</td>\n",
              "      <td>0.035240</td>\n",
              "      <td>0.276508</td>\n",
              "      <td>0.661693</td>\n",
              "      <td>0.932731</td>\n",
              "      <td>0.000005</td>\n",
              "      <td>0.164262</td>\n",
              "      <td>0.293271</td>\n",
              "      <td>world/life</td>\n",
              "      <td>0.757143</td>\n",
              "    </tr>\n",
              "    <tr>\n",
              "      <th>3121</th>\n",
              "      <td>9171</td>\n",
              "      <td>tears for fears</td>\n",
              "      <td>shout</td>\n",
              "      <td>1985</td>\n",
              "      <td>pop</td>\n",
              "      <td>shout shout things come talk come shout shout ...</td>\n",
              "      <td>124</td>\n",
              "      <td>0.231038</td>\n",
              "      <td>0.302889</td>\n",
              "      <td>0.062586</td>\n",
              "      <td>0.000466</td>\n",
              "      <td>0.000466</td>\n",
              "      <td>0.000466</td>\n",
              "      <td>0.021687</td>\n",
              "      <td>0.263495</td>\n",
              "      <td>0.000466</td>\n",
              "      <td>0.000466</td>\n",
              "      <td>0.000466</td>\n",
              "      <td>0.000466</td>\n",
              "      <td>0.000466</td>\n",
              "      <td>0.000466</td>\n",
              "      <td>0.112251</td>\n",
              "      <td>0.000466</td>\n",
              "      <td>0.480126</td>\n",
              "      <td>0.628644</td>\n",
              "      <td>0.178714</td>\n",
              "      <td>0.000035</td>\n",
              "      <td>0.497115</td>\n",
              "      <td>0.933932</td>\n",
              "      <td>violence</td>\n",
              "      <td>0.500000</td>\n",
              "    </tr>\n",
              "    <tr>\n",
              "      <th>4408</th>\n",
              "      <td>12721</td>\n",
              "      <td>the lemonheads</td>\n",
              "      <td>the outdoor type</td>\n",
              "      <td>1996</td>\n",
              "      <td>pop</td>\n",
              "      <td>roof pay rent foot inside tent couldn build sa...</td>\n",
              "      <td>59</td>\n",
              "      <td>0.001385</td>\n",
              "      <td>0.439582</td>\n",
              "      <td>0.170925</td>\n",
              "      <td>0.001385</td>\n",
              "      <td>0.001385</td>\n",
              "      <td>0.001385</td>\n",
              "      <td>0.001385</td>\n",
              "      <td>0.078968</td>\n",
              "      <td>0.001385</td>\n",
              "      <td>0.001385</td>\n",
              "      <td>0.001385</td>\n",
              "      <td>0.159924</td>\n",
              "      <td>0.035212</td>\n",
              "      <td>0.001385</td>\n",
              "      <td>0.070116</td>\n",
              "      <td>0.001385</td>\n",
              "      <td>0.410809</td>\n",
              "      <td>0.680537</td>\n",
              "      <td>0.316264</td>\n",
              "      <td>0.026012</td>\n",
              "      <td>0.556884</td>\n",
              "      <td>0.575562</td>\n",
              "      <td>violence</td>\n",
              "      <td>0.342857</td>\n",
              "    </tr>\n",
              "    <tr>\n",
              "      <th>8781</th>\n",
              "      <td>25342</td>\n",
              "      <td>gordon lightfoot</td>\n",
              "      <td>don quixote</td>\n",
              "      <td>1975</td>\n",
              "      <td>country</td>\n",
              "      <td>woodland valley come horseman wild free tilt w...</td>\n",
              "      <td>153</td>\n",
              "      <td>0.000591</td>\n",
              "      <td>0.301283</td>\n",
              "      <td>0.057319</td>\n",
              "      <td>0.000591</td>\n",
              "      <td>0.000591</td>\n",
              "      <td>0.000591</td>\n",
              "      <td>0.000591</td>\n",
              "      <td>0.000591</td>\n",
              "      <td>0.000591</td>\n",
              "      <td>0.000591</td>\n",
              "      <td>0.211299</td>\n",
              "      <td>0.241188</td>\n",
              "      <td>0.180631</td>\n",
              "      <td>0.000591</td>\n",
              "      <td>0.000591</td>\n",
              "      <td>0.000591</td>\n",
              "      <td>0.618759</td>\n",
              "      <td>0.586057</td>\n",
              "      <td>0.754016</td>\n",
              "      <td>0.000000</td>\n",
              "      <td>0.518755</td>\n",
              "      <td>0.410392</td>\n",
              "      <td>violence</td>\n",
              "      <td>0.642857</td>\n",
              "    </tr>\n",
              "    <tr>\n",
              "      <th>9563</th>\n",
              "      <td>27910</td>\n",
              "      <td>billy bragg</td>\n",
              "      <td>like soldiers do</td>\n",
              "      <td>1984</td>\n",
              "      <td>country</td>\n",
              "      <td>blue eye fight grey eye fight tear arm teeth w...</td>\n",
              "      <td>93</td>\n",
              "      <td>0.000822</td>\n",
              "      <td>0.442571</td>\n",
              "      <td>0.000822</td>\n",
              "      <td>0.000822</td>\n",
              "      <td>0.000822</td>\n",
              "      <td>0.000822</td>\n",
              "      <td>0.000822</td>\n",
              "      <td>0.000822</td>\n",
              "      <td>0.000822</td>\n",
              "      <td>0.033022</td>\n",
              "      <td>0.079007</td>\n",
              "      <td>0.000822</td>\n",
              "      <td>0.136771</td>\n",
              "      <td>0.061496</td>\n",
              "      <td>0.236443</td>\n",
              "      <td>0.000822</td>\n",
              "      <td>0.472544</td>\n",
              "      <td>0.761506</td>\n",
              "      <td>0.741968</td>\n",
              "      <td>0.000138</td>\n",
              "      <td>0.773289</td>\n",
              "      <td>0.634623</td>\n",
              "      <td>violence</td>\n",
              "      <td>0.514286</td>\n",
              "    </tr>\n",
              "  </tbody>\n",
              "</table>\n",
              "</div>"
            ],
            "text/plain": [
              "         id       artist_name        track_name  ...    energy       topic       age\n",
              "1090   2996    dionne warwick             alfie  ...  0.293271  world/life  0.757143\n",
              "3121   9171   tears for fears             shout  ...  0.933932    violence  0.500000\n",
              "4408  12721    the lemonheads  the outdoor type  ...  0.575562    violence  0.342857\n",
              "8781  25342  gordon lightfoot       don quixote  ...  0.410392    violence  0.642857\n",
              "9563  27910       billy bragg  like soldiers do  ...  0.634623    violence  0.514286\n",
              "\n",
              "[5 rows x 31 columns]"
            ]
          },
          "metadata": {
            "tags": []
          },
          "execution_count": 536
        }
      ]
    },
    {
      "cell_type": "code",
      "metadata": {
        "id": "lSA6TWN7evir",
        "outputId": "5dcc8a9b-0b2a-4a79-af2b-bd978c85ef98",
        "colab": {
          "base_uri": "https://localhost:8080/"
        }
      },
      "source": [
        "songs = pd.read_excel (r'/content/sample_data/music.xlsx')\n",
        "df = songs.loc[  : ,  [ \"id\",\"lyrics\",\"topic\",\"genre\" ] ]\n",
        "\n",
        "print( df )\n"
      ],
      "execution_count": 537,
      "outputs": [
        {
          "output_type": "stream",
          "text": [
            "          id  ...    genre\n",
            "0          0  ...      pop\n",
            "1          4  ...      pop\n",
            "2          6  ...      pop\n",
            "3         10  ...      pop\n",
            "4         12  ...      pop\n",
            "...      ...  ...      ...\n",
            "28367  82447  ...  hip hop\n",
            "28368  82448  ...  hip hop\n",
            "28369  82449  ...  hip hop\n",
            "28370  82450  ...  hip hop\n",
            "28371  82451  ...  hip hop\n",
            "\n",
            "[28372 rows x 4 columns]\n"
          ],
          "name": "stdout"
        }
      ]
    },
    {
      "cell_type": "code",
      "metadata": {
        "id": "53uSQix6hYte"
      },
      "source": [
        "def preprocessing_cleaning( data , flg_stemm=False, flg_lemm=True   ):\n",
        "\n",
        "  for x in range( len( data ) ):  \n",
        "\n",
        "    data_row = str ( data[x , 1 ] ).lower()                                # convert to lower case \n",
        "    tokenizer = RegexpTokenizer(r'\\w+')                                         # remove Punctuation and special characters \n",
        "    tokens = tokenizer.tokenize( data_row )                                # Remove stop words \n",
        "\n",
        "    # print( tokens)\n",
        "    # data_row_words = [w for w in tokens if not w in stopwords.words('english')]\n",
        "    # return \" \".join(filtered_words)\n",
        "                                                      #                Stemming (remove -ing, -ly, ...)\n",
        "    if flg_stemm == True:\n",
        "        ps = nltk.stem.porter.PorterStemmer()\n",
        "        data_row_words = [ps.stem(word) for word in tokens]\n",
        "        \n",
        "                                                        #                Lemmatisation (convert the word into root word)\n",
        "    if flg_lemm == True:\n",
        "        lem = nltk.stem.wordnet.WordNetLemmatizer()\n",
        "        data_row_words = [lem.lemmatize(word) for word in tokens]\n",
        "\n",
        "    data[ x , 1 ]  = data_row_words\n",
        "\n",
        "  return data  "
      ],
      "execution_count": 538,
      "outputs": []
    },
    {
      "cell_type": "code",
      "metadata": {
        "id": "XV9-NbIPhamz"
      },
      "source": [
        "data = preprocessing_cleaning(df.to_numpy())"
      ],
      "execution_count": 539,
      "outputs": []
    },
    {
      "cell_type": "code",
      "metadata": {
        "id": "6iPx9VMWmjzP",
        "outputId": "36d1b1ad-31ae-494a-89db-a14ca1652936",
        "colab": {
          "base_uri": "https://localhost:8080/"
        }
      },
      "source": [
        "data"
      ],
      "execution_count": 540,
      "outputs": [
        {
          "output_type": "execute_result",
          "data": {
            "text/plain": [
              "array([[0,\n",
              "        list(['hold', 'time', 'feel', 'break', 'feel', 'untrue', 'convince', 'speak', 'voice', 'tear', 'try', 'hold', 'hurt', 'try', 'forgive', 'okay', 'play', 'break', 'string', 'feel', 'heart', 'want', 'feel', 'tell', 'real', 'truth', 'hurt', 'lie', 'worse', 'anymore', 'little', 'turn', 'dust', 'play', 'house', 'ruin', 'run', 'leave', 'save', 'like', 'chase', 'train', 'late', 'late', 'tear', 'try', 'hold', 'hurt', 'try', 'forgive', 'okay', 'play', 'break', 'string', 'feel', 'heart', 'want', 'feel', 'tell', 'real', 'truth', 'hurt', 'lie', 'worse', 'anymore', 'little', 'run', 'leave', 'save', 'like', 'chase', 'train', 'know', 'late', 'late', 'play', 'break', 'string', 'feel', 'heart', 'want', 'feel', 'tell', 'real', 'truth', 'hurt', 'lie', 'worse', 'anymore', 'little', 'know', 'little', 'hold', 'time', 'feel']),\n",
              "        'sadness', 'pop'],\n",
              "       [4,\n",
              "        list(['believe', 'drop', 'rain', 'fall', 'grow', 'believe', 'darkest', 'night', 'candle', 'glow', 'believe', 'go', 'astray', 'come', 'believe', 'believe', 'believe', 'smallest', 'prayer', 'hear', 'believe', 'great', 'hear', 'word', 'time', 'hear', 'bear', 'baby', 'touch', 'leaf', 'believe', 'believe', 'believe', 'lord', 'heaven', 'guide', 'sin', 'hide', 'believe', 'calvary', 'die', 'pierce', 'believe', 'death', 'rise', 'meet', 'heaven', 'loud', 'amen', 'know', 'believe']),\n",
              "        'world/life', 'pop'],\n",
              "       [6,\n",
              "        list(['sweetheart', 'send', 'letter', 'goodbye', 'secret', 'feel', 'better', 'wake', 'dream', 'think', 'real', 'false', 'emotion', 'feel', 'heartache', 'hang', 'long', 'blue', 'get', 'bluer', 'song', 'remember', 'cloudy', 'hair']),\n",
              "        'music', 'pop'],\n",
              "       ...,\n",
              "       [82449,\n",
              "        list(['get', 'ban', 'get', 'ban', 'stick', 'crack', 'relax', 'plan', 'attack', 'test', 'pose', 'finesse', 'buddha', 'bless', 'nest', 'chill', 'peep', 'steady', 'bounce', 'jeep', 'york', 'street', 'hittin', 'concrete', 'untestable', 'flow', 'fiftyfix', 'celo', 'ounce', 'bottle', 'follow', 'role', 'model', 'hollow', 'tip', 'clip', 'money', 'grip', 'glock', 'spit', 'react', 'bullshit', 'room', 'breathe', 'deez', 'save', 'confession', 'jeesuz', 'plus', 'need', 'hear', 'sorrow', 'come', 'tomorrow', 'long', 'breathe', 'need', 'like', 'achieve', 'gettin', 'cheese', 'representin', 'lovely', 'boogie', 'bronx', 'project', 'flavor', 'daze', 'behavior', 'know', 'want', 'whutcha', 'want', 'beat', 'rhyme', 'lyric', 'commercial']),\n",
              "        'obscene', 'hip hop'],\n",
              "       [82450,\n",
              "        list(['check', 'check', 'yeah', 'yeah', 'hear', 'thing', 'call', 'switch', 'go', 'switch', 'turn', 'turn', 'switch', 'turn', 'vibe', 'vibe', 'second', 'club', 'girl', 'arrive', 'neckid', 'hear', 'veteran', 'glide', 'record', 'download', 'record', 'sexy', 'bout', 'girl', 'floor', 'friend', 'mean', 'real', 'clean', 'gotta', 'touch', 'nuttin', 'like', 'like', 'chick', 'chick', 'sumtin', 'sucker', 'track', 'gimme', 'drink', 'chick', 'tell', 'stop', 'dance', 'clap', 'flip', 'round', 'bring', 'break', 'switch', 'turn', 'turn', 'switch', 'turn', 'switch', 'turn', 'turn', 'switch', 'lyric', 'commercial']),\n",
              "        'obscene', 'hip hop'],\n",
              "       [82451,\n",
              "        list(['remix', 'killer', 'alive', 'remix', 'thriller', 'trap', 'bitch', 'spell', 'damn', 'cause', 'hood', 'nigga', 'everybody', 'list', 'club', 'fuck', 'average', 'watch', 'fuck', 'wrist', 'average', 'hoe', 'fuck', 'bitch', 'window', 'motherfuckin', 'wall', 'money', 'jean', 'motherfuckin', 'mall', 'choppas', 'bulletproof', 'hummer', 'competition', 'summer', 'wanna', 'kill', 'judge', 'tryna', 'lock', 'homie', 'feel', 'thug', 'thirsty', 'fuck', 'fuckin', 'cause', 'teach', 'fuck', 'stack', 'money', 'go', 'hollywood', 'funny', 'know', 'want', 'pipe', 'like', 'crack', 'bummy', 'stop', 'playin', 'tryna', 'like', 'crash', 'dummy', 'start', 'shit', 'shit', 'bitch', 'bitch', 'see', 'snow', 'bitch', 'cancel', 'like', 'nino', 'bitch', 'kill', 'club', 'lyric', 'commercial']),\n",
              "        'obscene', 'hip hop']], dtype=object)"
            ]
          },
          "metadata": {
            "tags": []
          },
          "execution_count": 540
        }
      ]
    },
    {
      "cell_type": "code",
      "metadata": {
        "id": "E4bkjFiqsTA4",
        "outputId": "70512db7-4152-474a-e28d-cc86a2ad9866",
        "colab": {
          "base_uri": "https://localhost:8080/",
          "height": 419
        }
      },
      "source": [
        "pd.DataFrame(data , columns=['id','lyrics','topics','genre'])"
      ],
      "execution_count": 541,
      "outputs": [
        {
          "output_type": "execute_result",
          "data": {
            "text/html": [
              "<div>\n",
              "<style scoped>\n",
              "    .dataframe tbody tr th:only-of-type {\n",
              "        vertical-align: middle;\n",
              "    }\n",
              "\n",
              "    .dataframe tbody tr th {\n",
              "        vertical-align: top;\n",
              "    }\n",
              "\n",
              "    .dataframe thead th {\n",
              "        text-align: right;\n",
              "    }\n",
              "</style>\n",
              "<table border=\"1\" class=\"dataframe\">\n",
              "  <thead>\n",
              "    <tr style=\"text-align: right;\">\n",
              "      <th></th>\n",
              "      <th>id</th>\n",
              "      <th>lyrics</th>\n",
              "      <th>topics</th>\n",
              "      <th>genre</th>\n",
              "    </tr>\n",
              "  </thead>\n",
              "  <tbody>\n",
              "    <tr>\n",
              "      <th>0</th>\n",
              "      <td>0</td>\n",
              "      <td>[hold, time, feel, break, feel, untrue, convin...</td>\n",
              "      <td>sadness</td>\n",
              "      <td>pop</td>\n",
              "    </tr>\n",
              "    <tr>\n",
              "      <th>1</th>\n",
              "      <td>4</td>\n",
              "      <td>[believe, drop, rain, fall, grow, believe, dar...</td>\n",
              "      <td>world/life</td>\n",
              "      <td>pop</td>\n",
              "    </tr>\n",
              "    <tr>\n",
              "      <th>2</th>\n",
              "      <td>6</td>\n",
              "      <td>[sweetheart, send, letter, goodbye, secret, fe...</td>\n",
              "      <td>music</td>\n",
              "      <td>pop</td>\n",
              "    </tr>\n",
              "    <tr>\n",
              "      <th>3</th>\n",
              "      <td>10</td>\n",
              "      <td>[kiss, lip, want, stroll, charm, mambo, chacha...</td>\n",
              "      <td>romantic</td>\n",
              "      <td>pop</td>\n",
              "    </tr>\n",
              "    <tr>\n",
              "      <th>4</th>\n",
              "      <td>12</td>\n",
              "      <td>[till, darling, till, matter, know, till, drea...</td>\n",
              "      <td>romantic</td>\n",
              "      <td>pop</td>\n",
              "    </tr>\n",
              "    <tr>\n",
              "      <th>...</th>\n",
              "      <td>...</td>\n",
              "      <td>...</td>\n",
              "      <td>...</td>\n",
              "      <td>...</td>\n",
              "    </tr>\n",
              "    <tr>\n",
              "      <th>28367</th>\n",
              "      <td>82447</td>\n",
              "      <td>[cause, fuck, leave, scar, tick, tock, clock, ...</td>\n",
              "      <td>obscene</td>\n",
              "      <td>hip hop</td>\n",
              "    </tr>\n",
              "    <tr>\n",
              "      <th>28368</th>\n",
              "      <td>82448</td>\n",
              "      <td>[mink, thing, chain, ring, braclets, yap, fame...</td>\n",
              "      <td>obscene</td>\n",
              "      <td>hip hop</td>\n",
              "    </tr>\n",
              "    <tr>\n",
              "      <th>28369</th>\n",
              "      <td>82449</td>\n",
              "      <td>[get, ban, get, ban, stick, crack, relax, plan...</td>\n",
              "      <td>obscene</td>\n",
              "      <td>hip hop</td>\n",
              "    </tr>\n",
              "    <tr>\n",
              "      <th>28370</th>\n",
              "      <td>82450</td>\n",
              "      <td>[check, check, yeah, yeah, hear, thing, call, ...</td>\n",
              "      <td>obscene</td>\n",
              "      <td>hip hop</td>\n",
              "    </tr>\n",
              "    <tr>\n",
              "      <th>28371</th>\n",
              "      <td>82451</td>\n",
              "      <td>[remix, killer, alive, remix, thriller, trap, ...</td>\n",
              "      <td>obscene</td>\n",
              "      <td>hip hop</td>\n",
              "    </tr>\n",
              "  </tbody>\n",
              "</table>\n",
              "<p>28372 rows × 4 columns</p>\n",
              "</div>"
            ],
            "text/plain": [
              "          id  ...    genre\n",
              "0          0  ...      pop\n",
              "1          4  ...      pop\n",
              "2          6  ...      pop\n",
              "3         10  ...      pop\n",
              "4         12  ...      pop\n",
              "...      ...  ...      ...\n",
              "28367  82447  ...  hip hop\n",
              "28368  82448  ...  hip hop\n",
              "28369  82449  ...  hip hop\n",
              "28370  82450  ...  hip hop\n",
              "28371  82451  ...  hip hop\n",
              "\n",
              "[28372 rows x 4 columns]"
            ]
          },
          "metadata": {
            "tags": []
          },
          "execution_count": 541
        }
      ]
    },
    {
      "cell_type": "code",
      "metadata": {
        "id": "qrzW7mwAwe1p",
        "outputId": "37ac8070-dade-4c2a-abd7-0ceff5c59ba3",
        "colab": {
          "base_uri": "https://localhost:8080/"
        }
      },
      "source": [
        "recommended_songs['id']"
      ],
      "execution_count": 542,
      "outputs": [
        {
          "output_type": "execute_result",
          "data": {
            "text/plain": [
              "609       1591\n",
              "2042      6049\n",
              "6521     18730\n",
              "10504    30941\n",
              "25029    74904\n",
              "Name: id, dtype: int64"
            ]
          },
          "metadata": {
            "tags": []
          },
          "execution_count": 542
        }
      ]
    },
    {
      "cell_type": "code",
      "metadata": {
        "id": "ChQIX0Kcys67"
      },
      "source": [
        "f=user_history[:n].index\n"
      ],
      "execution_count": 543,
      "outputs": []
    },
    {
      "cell_type": "code",
      "metadata": {
        "id": "7UwIAagIy9S4",
        "outputId": "19b41b57-14ea-404d-859a-69b4753dc831",
        "colab": {
          "base_uri": "https://localhost:8080/",
          "height": 216
        }
      },
      "source": [
        "all=[]\n",
        "print(\"for all songs which user hear  \")\n",
        "for i in f :\n",
        "  all.append(data[f ][1])\n",
        "\n",
        "wc = wordcloud.WordCloud( background_color='black',    max_words=60 ,     max_font_size=35  )\n",
        "wc = wc.generate(str( all  ))\n",
        "fig = plt.figure(num=1)\n",
        "plt.axis('off')\n",
        "plt.imshow(wc, cmap=None)\n",
        "plt.show()"
      ],
      "execution_count": 544,
      "outputs": [
        {
          "output_type": "stream",
          "text": [
            "for all songs which user hear  \n"
          ],
          "name": "stdout"
        },
        {
          "output_type": "display_data",
          "data": {
            "image/png": "[encoded data removed]",
            "text/plain": [
              "<Figure size 432x288 with 1 Axes>"
            ]
          },
          "metadata": {
            "tags": [],
            "needs_background": "light"
          }
        }
      ]
    },
    {
      "cell_type": "code",
      "metadata": {
        "id": "NJXZxHAoz32D"
      },
      "source": [
        "ff=recommended_songs.index"
      ],
      "execution_count": 545,
      "outputs": []
    },
    {
      "cell_type": "code",
      "metadata": {
        "id": "iuNhwPsWzx9c",
        "outputId": "b0eccf3d-367f-4da0-d990-c982d914a848",
        "colab": {
          "base_uri": "https://localhost:8080/",
          "height": 216
        }
      },
      "source": [
        "all=[]\n",
        "print(\"for all songs which recommended  \")\n",
        "for i in ff :\n",
        "  all.append(data[ff ][1])\n",
        "\n",
        "wc = wordcloud.WordCloud( background_color='black',    max_words=60 ,     max_font_size=35  )\n",
        "wc = wc.generate(str( all  ))\n",
        "fig = plt.figure(num=1)\n",
        "plt.axis('off')\n",
        "plt.imshow(wc, cmap=None)\n",
        "plt.show()"
      ],
      "execution_count": 546,
      "outputs": [
        {
          "output_type": "stream",
          "text": [
            "for all songs which recommended  \n"
          ],
          "name": "stdout"
        },
        {
          "output_type": "display_data",
          "data": {
            "image/png": "[encoded data removed]",
            "text/plain": [
              "<Figure size 432x288 with 1 Axes>"
            ]
          },
          "metadata": {
            "tags": [],
            "needs_background": "light"
          }
        }
      ]
    },
    {
      "cell_type": "code",
      "metadata": {
        "id": "rXUjnZWw0O5w",
        "outputId": "1fe47054-fb9f-4050-c76e-5b8fd1bfeda5",
        "colab": {
          "base_uri": "https://localhost:8080/"
        }
      },
      "source": [
        "print(\"recommend genre    ||     listen genre\"  )\n",
        "print(\"________________________\")\n",
        "for i in range(5):\n",
        "  print(data[ff[i],3] ,\"     ||     \", data[f[i],3] )"
      ],
      "execution_count": 553,
      "outputs": [
        {
          "output_type": "stream",
          "text": [
            "recommend genre    ||     listen genre\n",
            "________________________\n",
            "pop      ||      pop\n",
            "pop      ||      pop\n",
            "pop      ||      pop\n",
            "country      ||      country\n",
            "rock      ||      country\n"
          ],
          "name": "stdout"
        }
      ]
    },
    {
      "cell_type": "code",
      "metadata": {
        "id": "ElotfJJN7C4p",
        "outputId": "91cc496f-fa96-4669-82ca-ef5e8ef4cf65",
        "colab": {
          "base_uri": "https://localhost:8080/"
        }
      },
      "source": [
        "print(\"topics\")\n",
        "print(\"recommend topics     ||     listen topics\"  )\n",
        "print(\"________________________\")\n",
        "for i in range(5):\n",
        "  print(data[ff[i],2] ,\"     ||     \", data[f[i],2] )"
      ],
      "execution_count": 554,
      "outputs": [
        {
          "output_type": "stream",
          "text": [
            "topics\n",
            "recommend topics     ||     listen topics\n",
            "________________________\n",
            "sadness      ||      world/life\n",
            "sadness      ||      violence\n",
            "obscene      ||      violence\n",
            "violence      ||      violence\n",
            "world/life      ||      violence\n"
          ],
          "name": "stdout"
        }
      ]
    },
    {
      "cell_type": "code",
      "metadata": {
        "id": "1oL0dQyQ8zMJ"
      },
      "source": [
        ""
      ],
      "execution_count": 548,
      "outputs": []
    }
  ]
}